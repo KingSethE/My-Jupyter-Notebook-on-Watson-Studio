{
 "cells": [
  {
   "cell_type": "markdown",
   "metadata": {},
   "source": [
    "<center>\n",
    "    <img src=\"https://s3-api.us-geo.objectstorage.softlayer.net/cf-courses-data/CognitiveClass/Logos/organization_logo/organization_logo.png\" width=\"300\" alt=\"cognitiveclass.ai logo\"  />\n",
    "</center>\n"
   ]
  },
  {
   "cell_type": "markdown",
   "metadata": {},
   "source": [
    "#### Add your code below following the instructions given in the course\n"
   ]
  },
  {
   "cell_type": "code",
   "execution_count": null,
   "metadata": {},
   "outputs": [],
   "source": [
    "My Watson Studio isnt cooperating because of some licensing thing and I can not figure it out so I am typing everything here in this optional\n",
    "submission and I am answering all the questions. \n",
    "\n",
    "My Jupyter Notebook on IBM Watson Studio\n",
    "\n",
    "Seth Eakin. My current occupation is a financial advisor but I'm looking for a career switch\n",
    "\n",
    "I am interested in Data Science because it combines coding and technology with skills I already have from my current background and jobs with finance.\n",
    "\n",
    "My code in line 5 is supposed to add 1+1\n",
    "\n",
    "1+1=2\n",
    "\n",
    "Im not sure how to do part 6 on this. "
   ]
  }
 ],
 "metadata": {
  "kernelspec": {
   "display_name": "Python",
   "language": "python",
   "name": "conda-env-python-py"
  },
  "language_info": {
   "codemirror_mode": {
    "name": "ipython",
    "version": 3
   },
   "file_extension": ".py",
   "mimetype": "text/x-python",
   "name": "python",
   "nbconvert_exporter": "python",
   "pygments_lexer": "ipython3",
   "version": "3.7.12"
  }
 },
 "nbformat": 4,
 "nbformat_minor": 4
}
